{
 "cells": [
  {
   "cell_type": "code",
   "execution_count": 1,
   "metadata": {},
   "outputs": [],
   "source": [
    "import pandas as pd\n",
    "import numpy as np"
   ]
  },
  {
   "cell_type": "code",
   "execution_count": 79,
   "metadata": {},
   "outputs": [],
   "source": [
    "df = pd.read_csv(\"cleaned.csv\").drop(columns=['name','date','content'])"
   ]
  },
  {
   "cell_type": "code",
   "execution_count": 80,
   "metadata": {},
   "outputs": [],
   "source": [
    "default_text = ['ขอให้สุขภาพแข็งแรงทั้งกายและใจ ไร้โรคภัย หมดทุกข์หมดโศกด้วยเถิด', 'ขอให้ข้าพเจ้าร่ำรวย เงินถุงเงินถัง ล่ำซำไม่ขัดสนด้วยเถิด', 'ขอให้ข้าพเจ้าได้มีแต่ความรักหวานยาวนาน ไม่มีจืดจางด้วยเถิด', 'ขอให้ข้าพเจ้ามีแต่มิตรแท้ จริงใจ เคียงบ่าเคียงไหล่เป็นกัลยาณมิตรด้วยเถิด','ขอให้ข้าพเจ้ามีโชคด้านการงาน ทำมาค้าขึ้น เจ้านายรัก ลูกน้องเชื่อฟัง ปังทุกเรื่องด้วยเถิด', 'ขอให้ได้พบเจอคนที่ดีมีกำลังทรัพย์ พร้อมหนุนนำให้ข้าพเจ้ามีกินมีใช้ไปนานๆ ด้วยเถิด' ]"
   ]
  },
  {
   "cell_type": "code",
   "execution_count": null,
   "metadata": {},
   "outputs": [],
   "source": []
  },
  {
   "cell_type": "code",
   "execution_count": 81,
   "metadata": {},
   "outputs": [],
   "source": [
    "import gensim\n",
    "from gensim.utils import simple_preprocess\n",
    "from gensim.parsing.preprocessing import STOPWORDS\n",
    "from nltk.stem import WordNetLemmatizer, SnowballStemmer\n",
    "from nltk.stem.porter import *\n",
    "import numpy as np"
   ]
  },
  {
   "cell_type": "code",
   "execution_count": 82,
   "metadata": {},
   "outputs": [],
   "source": [
    "def listContent(s):\n",
    "    return s.split()"
   ]
  },
  {
   "cell_type": "code",
   "execution_count": 83,
   "metadata": {},
   "outputs": [],
   "source": [
    "df['content'] = df['clean_content'].apply(lambda x: listContent(x))"
   ]
  },
  {
   "cell_type": "code",
   "execution_count": 84,
   "metadata": {},
   "outputs": [
    {
     "data": {
      "text/html": [
       "<div>\n",
       "<style scoped>\n",
       "    .dataframe tbody tr th:only-of-type {\n",
       "        vertical-align: middle;\n",
       "    }\n",
       "\n",
       "    .dataframe tbody tr th {\n",
       "        vertical-align: top;\n",
       "    }\n",
       "\n",
       "    .dataframe thead th {\n",
       "        text-align: right;\n",
       "    }\n",
       "</style>\n",
       "<table border=\"1\" class=\"dataframe\">\n",
       "  <thead>\n",
       "    <tr style=\"text-align: right;\">\n",
       "      <th></th>\n",
       "      <th>id</th>\n",
       "      <th>clean_content</th>\n",
       "      <th>content</th>\n",
       "    </tr>\n",
       "  </thead>\n",
       "  <tbody>\n",
       "    <tr>\n",
       "      <th>0</th>\n",
       "      <td>9070017</td>\n",
       "      <td>คลั่งรัก แฟน ตัว ร๊าก นะ  เมีย ข่อย</td>\n",
       "      <td>[คลั่งรัก, แฟน, ตัว, ร๊าก, นะ, เมีย, ข่อย]</td>\n",
       "    </tr>\n",
       "    <tr>\n",
       "      <th>1</th>\n",
       "      <td>9070001</td>\n",
       "      <td>แม่ สุขภาพ แข็ง รํ่า รวย เงินทอง</td>\n",
       "      <td>[แม่, สุขภาพ, แข็ง, รํ่า, รวย, เงินทอง]</td>\n",
       "    </tr>\n",
       "    <tr>\n",
       "      <th>2</th>\n",
       "      <td>9069993</td>\n",
       "      <td>คะแนน ดี ดี ชีวิต ออฟ แฟน</td>\n",
       "      <td>[คะแนน, ดี, ดี, ชีวิต, ออฟ, แฟน]</td>\n",
       "    </tr>\n",
       "    <tr>\n",
       "      <th>3</th>\n",
       "      <td>9069977</td>\n",
       "      <td>ง่วงนอน</td>\n",
       "      <td>[ง่วงนอน]</td>\n",
       "    </tr>\n",
       "    <tr>\n",
       "      <th>4</th>\n",
       "      <td>9069969</td>\n",
       "      <td>สนุกสนาน ลอยกระทงเอย</td>\n",
       "      <td>[สนุกสนาน, ลอยกระทงเอย]</td>\n",
       "    </tr>\n",
       "  </tbody>\n",
       "</table>\n",
       "</div>"
      ],
      "text/plain": [
       "        id                        clean_content  \\\n",
       "0  9070017  คลั่งรัก แฟน ตัว ร๊าก นะ  เมีย ข่อย   \n",
       "1  9070001     แม่ สุขภาพ แข็ง รํ่า รวย เงินทอง   \n",
       "2  9069993            คะแนน ดี ดี ชีวิต ออฟ แฟน   \n",
       "3  9069977                              ง่วงนอน   \n",
       "4  9069969                 สนุกสนาน ลอยกระทงเอย   \n",
       "\n",
       "                                      content  \n",
       "0  [คลั่งรัก, แฟน, ตัว, ร๊าก, นะ, เมีย, ข่อย]  \n",
       "1     [แม่, สุขภาพ, แข็ง, รํ่า, รวย, เงินทอง]  \n",
       "2            [คะแนน, ดี, ดี, ชีวิต, ออฟ, แฟน]  \n",
       "3                                   [ง่วงนอน]  \n",
       "4                     [สนุกสนาน, ลอยกระทงเอย]  "
      ]
     },
     "execution_count": 84,
     "metadata": {},
     "output_type": "execute_result"
    }
   ],
   "source": [
    "df.head()"
   ]
  },
  {
   "cell_type": "code",
   "execution_count": 86,
   "metadata": {},
   "outputs": [],
   "source": [
    "dictionary = gensim.corpora.Dictionary(df.content)"
   ]
  },
  {
   "cell_type": "code",
   "execution_count": 87,
   "metadata": {},
   "outputs": [
    {
     "data": {
      "text/plain": [
       "<gensim.corpora.dictionary.Dictionary at 0x20209a08910>"
      ]
     },
     "execution_count": 87,
     "metadata": {},
     "output_type": "execute_result"
    }
   ],
   "source": [
    "dictionary "
   ]
  },
  {
   "cell_type": "code",
   "execution_count": 88,
   "metadata": {},
   "outputs": [],
   "source": [
    "dictionary.filter_extremes(no_below=15, no_above=0.5, keep_n=50000)"
   ]
  },
  {
   "cell_type": "code",
   "execution_count": 89,
   "metadata": {},
   "outputs": [
    {
     "data": {
      "text/plain": [
       "[(101, 1), (105, 1), (140, 1), (724, 1)]"
      ]
     },
     "execution_count": 89,
     "metadata": {},
     "output_type": "execute_result"
    }
   ],
   "source": [
    "bow_corpus = [dictionary.doc2bow(doc) for doc in df.content]\n",
    "bow_corpus[4310]"
   ]
  },
  {
   "cell_type": "code",
   "execution_count": 90,
   "metadata": {},
   "outputs": [
    {
     "name": "stdout",
     "output_type": "stream",
     "text": [
      "Word 101 (\"จริงใจ\") appears 1 time.\n",
      "Word 105 (\"มิตรแท้\") appears 1 time.\n",
      "Word 140 (\"เจอ\") appears 1 time.\n",
      "Word 724 (\"เนื้อคู่\") appears 1 time.\n"
     ]
    }
   ],
   "source": [
    "bow_doc_4310 = bow_corpus[4310]\n",
    "for i in range(len(bow_doc_4310)):\n",
    "    print(\"Word {} (\\\"{}\\\") appears {} time.\".format(bow_doc_4310[i][0], \n",
    "                                               dictionary[bow_doc_4310[i][0]], \n",
    "bow_doc_4310[i][1]))"
   ]
  },
  {
   "cell_type": "code",
   "execution_count": 91,
   "metadata": {},
   "outputs": [
    {
     "data": {
      "text/plain": [
       "id                                        8963865\n",
       "clean_content       มิตรแท้  จริงใจ  เจอ เนื้อคู่\n",
       "content          [มิตรแท้, จริงใจ, เจอ, เนื้อคู่]\n",
       "Name: 4330, dtype: object"
      ]
     },
     "execution_count": 91,
     "metadata": {},
     "output_type": "execute_result"
    }
   ],
   "source": [
    "df.iloc[4310]"
   ]
  },
  {
   "cell_type": "markdown",
   "metadata": {},
   "source": [
    "# TFIDF"
   ]
  },
  {
   "cell_type": "code",
   "execution_count": 92,
   "metadata": {},
   "outputs": [
    {
     "name": "stdout",
     "output_type": "stream",
     "text": [
      "[(0, 0.5037179650161435),\n",
      " (1, 0.4191323308018092),\n",
      " (2, 0.16693483517837895),\n",
      " (3, 0.3696160325349719),\n",
      " (4, 0.5405545242417672),\n",
      " (5, 0.2929575422789636),\n",
      " (6, 0.16759992552903485)]\n"
     ]
    }
   ],
   "source": [
    "from gensim import corpora, models\n",
    "tfidf = models.TfidfModel(bow_corpus)\n",
    "corpus_tfidf = tfidf[bow_corpus]\n",
    "from pprint import pprint\n",
    "for doc in corpus_tfidf:\n",
    "    pprint(doc)\n",
    "    break"
   ]
  },
  {
   "cell_type": "code",
   "execution_count": 68,
   "metadata": {},
   "outputs": [],
   "source": [
    "lda_model = gensim.models.LdaMulticore(bow_corpus, num_topics=5, id2word=dictionary, passes=2, workers=2)"
   ]
  },
  {
   "cell_type": "code",
   "execution_count": 69,
   "metadata": {},
   "outputs": [
    {
     "name": "stdout",
     "output_type": "stream",
     "text": [
      "Topic: 0 \n",
      "Words: 0.090*\"สุขภาพ\" + 0.081*\"แข็งแรง\" + 0.052*\"สุข\" + 0.036*\"ครอบครัว\" + 0.036*\"ดี\" + 0.031*\"รัก\" + 0.029*\"ร่างกาย\" + 0.028*\"ภัย\" + 0.026*\"โรค\" + 0.023*\"คน\"\n",
      "Topic: 1 \n",
      "Words: 0.101*\"รัก\" + 0.079*\"คน\" + 0.038*\"ดี\" + 0.037*\"รวย\" + 0.037*\"เรียน\" + 0.029*\"สุข\" + 0.028*\"เก่ง\" + 0.026*\"*\" + 0.025*\"แฟน\" + 0.023*\"ชอบ\"\n",
      "Topic: 2 \n",
      "Words: 0.060*\"สุข\" + 0.048*\"ไหล\" + 0.045*\"จริงใจ\" + 0.045*\"เงินทอง\" + 0.038*\"มิตรแท้\" + 0.029*\"ไห้\" + 0.027*\"1\" + 0.026*\"เจ็บ\" + 0.026*\"กัลยาณมิตร\" + 0.024*\"เคียงบ่าเคียงไหล่\"\n",
      "Topic: 3 \n",
      "Words: 0.215*\"เงิน\" + 0.104*\"ร่ำรวย\" + 0.069*\"ถัง\" + 0.068*\"ถุง\" + 0.063*\"​\" + 0.059*\"ล่ำซำ\" + 0.043*\"ขัดสน\" + 0.026*\"ดี\" + 0.019*\"ขัด\" + 0.017*\"คน\"\n",
      "Topic: 4 \n",
      "Words: 0.104*\"ดี\" + 0.063*\"สอบ\" + 0.044*\"เกรด\" + 0.041*\"!\" + 0.034*\"ปี\" + 0.029*\"สาธุ\" + 0.029*\"ชีวิต\" + 0.026*\"วิชา\" + 0.025*\"เจอ\" + 0.023*\"4\"\n"
     ]
    }
   ],
   "source": [
    "for idx, topic in lda_model.print_topics(-1):\n",
    "    print('Topic: {} \\nWords: {}'.format(idx, topic))"
   ]
  },
  {
   "cell_type": "code",
   "execution_count": 95,
   "metadata": {},
   "outputs": [
    {
     "name": "stdout",
     "output_type": "stream",
     "text": [
      "Topic: 0 Word: 0.069*\"เงิน\" + 0.043*\"ร่ำรวย\" + 0.035*\"สุข\" + 0.033*\"ถัง\" + 0.033*\"ถุง\" + 0.032*\"สุขภาพ\" + 0.030*\"แข็งแรง\" + 0.030*\"ล่ำซำ\" + 0.026*\"​\" + 0.025*\"ขัดสน\"\n",
      "Topic: 1 Word: 0.034*\"จริงใจ\" + 0.029*\"มิตรแท้\" + 0.027*\"โชค\" + 0.024*\"ดี\" + 0.022*\"กัลยาณมิตร\" + 0.021*\"เคียงบ่าเคียงไหล่\" + 0.020*\"กิน\" + 0.018*\"เจอ\" + 0.018*\"ปัง\" + 0.018*\"คน\"\n",
      "Topic: 2 Word: 0.045*\"รัก\" + 0.035*\"ดี\" + 0.030*\"คน\" + 0.028*\"รวย\" + 0.025*\"สุข\" + 0.024*\"เรียน\" + 0.023*\"เจอ\" + 0.023*\"ชีวิต\" + 0.022*\"สมหวัง\" + 0.022*\"เก่ง\"\n",
      "Topic: 3 Word: 0.032*\"สอบ\" + 0.020*\"แฟน\" + 0.017*\"เกรด\" + 0.015*\"วิชา\" + 0.014*\"ติด\" + 0.014*\"สวย\" + 0.013*\"4\" + 0.012*\"1\" + 0.011*\"รวย\" + 0.011*\"ผัว\"\n"
     ]
    }
   ],
   "source": [
    "lda_model_tfidf = gensim.models.LdaMulticore(corpus_tfidf, num_topics=4, id2word=dictionary, passes=2, workers=4)\n",
    "for idx, topic in lda_model_tfidf.print_topics(-1):\n",
    "    print('Topic: {} Word: {}'.format(idx, topic))"
   ]
  },
  {
   "cell_type": "code",
   "execution_count": 74,
   "metadata": {},
   "outputs": [
    {
     "name": "stdout",
     "output_type": "stream",
     "text": [
      "\n",
      "Score: 0.5960564613342285\t \n",
      "Topic: 0.095*\"จริงใจ\" + 0.082*\"มิตรแท้\" + 0.064*\"รัก\" + 0.061*\"กัลยาณมิตร\" + 0.059*\"เคียงบ่าเคียงไหล่\" + 0.027*\"มิตร\" + 0.020*\"คน\" + 0.018*\"สาธุ\" + 0.016*\"ดี\" + 0.014*\"คู่\"\n",
      "\n",
      "Score: 0.2372709959745407\t \n",
      "Topic: 0.090*\"​\" + 0.067*\"*\" + 0.038*\"ติด\" + 0.033*\"เกรด\" + 0.033*\"ผัว\" + 0.028*\"4\" + 0.025*\"สอบ\" + 0.021*\"0\" + 0.019*\"วิชา\" + 0.013*\"มหาลัย\"\n",
      "\n",
      "Score: 0.01666802167892456\t \n",
      "Topic: 0.073*\"ดี\" + 0.066*\"สุข\" + 0.050*\"ชีวิต\" + 0.048*\"เจอ\" + 0.039*\"คน\" + 0.030*\"รัก\" + 0.028*\"ลอย\" + 0.025*\"ครอบครัว\" + 0.024*\"เรื่อง\" + 0.023*\"กระทง\"\n",
      "\n",
      "Score: 0.01666749082505703\t \n",
      "Topic: 0.060*\"ชอบ\" + 0.051*\"คน\" + 0.032*\"ทรัพย์\" + 0.031*\"กิน\" + 0.030*\"สมหวัง\" + 0.029*\"หนุน\" + 0.029*\"รัก\" + 0.028*\"คบ\" + 0.025*\"ผม\" + 0.024*\"เจอ\"\n",
      "\n",
      "Score: 0.016667155548930168\t \n",
      "Topic: 0.062*\"ไหล\" + 0.058*\"เงินทอง\" + 0.031*\"เจ็บ\" + 0.029*\"เท\" + 0.025*\"เทมา\" + 0.025*\"มาเทมา\" + 0.023*\"ป่วย\" + 0.019*\"สุข\" + 0.017*\"ครอบครัว\" + 0.016*\"แข็งแรง\"\n",
      "\n",
      "Score: 0.01666715368628502\t \n",
      "Topic: 0.051*\")\" + 0.045*\":\" + 0.030*\"(\" + 0.028*\";\" + 0.025*\"-\" + 0.018*\"...\" + 0.013*\"ประยุทธ์\" + 0.012*\"รัก\" + 0.011*\"ดี\" + 0.011*\"สุข\"\n",
      "\n",
      "Score: 0.016667146235704422\t \n",
      "Topic: 0.085*\"รวย\" + 0.057*\"สม\" + 0.044*\"หวัง\" + 0.038*\"ปรารถนา\" + 0.026*\"ปี\" + 0.020*\"ใด\" + 0.019*\"สุข\" + 0.018*\"รัก\" + 0.017*\"~\" + 0.015*\"หน้า\"\n",
      "\n",
      "Score: 0.016667135059833527\t \n",
      "Topic: 0.058*\"!\" + 0.049*\"แฟน\" + 0.045*\"ไห้\" + 0.031*\"เเรง\" + 0.031*\"เเข็ง\" + 0.020*\"เเฟน\" + 0.018*\"เเละ\" + 0.018*\"พ่อ\" + 0.017*\"รัก\" + 0.016*\"คน\"\n",
      "\n",
      "Score: 0.016667120158672333\t \n",
      "Topic: 0.056*\"หวาน\" + 0.052*\"จาง\" + 0.052*\"จืด\" + 0.051*\"โรค\" + 0.050*\"ภัย\" + 0.049*\"กาย\" + 0.047*\"ใจ\" + 0.044*\"แข็งแรง\" + 0.042*\"ไร้\" + 0.042*\"สุขภาพ\"\n",
      "\n",
      "Score: 0.016667118296027184\t \n",
      "Topic: 0.158*\"เงิน\" + 0.091*\"ถัง\" + 0.091*\"ถุง\" + 0.087*\"ร่ำรวย\" + 0.082*\"ล่ำซำ\" + 0.070*\"ขัดสน\" + 0.032*\"ขัด\" + 0.030*\"สน\" + 0.016*\"แข็งแรง\" + 0.016*\"สุขภาพ\"\n",
      "\n",
      "Score: 0.01666710525751114\t \n",
      "Topic: 0.064*\"โชค\" + 0.046*\"การงาน\" + 0.040*\"ปัง\" + 0.039*\"สุข\" + 0.037*\"ทำ\" + 0.029*\"มาค้า\" + 0.028*\"เรื่อง\" + 0.025*\"เจ้านาย\" + 0.024*\"ขมา\" + 0.023*\"ลูก\"\n",
      "\n",
      "Score: 0.016667058691382408\t \n",
      "Topic: 0.052*\"เก่ง\" + 0.052*\"สอบ\" + 0.051*\"เรียน\" + 0.028*\"สวย\" + 0.027*\"1\" + 0.021*\"หนังสือ\" + 0.020*\"วิชา\" + 0.019*\"รวย\" + 0.017*\"หวย\" + 0.017*\"เกรด\"\n"
     ]
    }
   ],
   "source": [
    "for index, score in sorted(lda_model_tfidf[bow_corpus[4310]], key=lambda tup: -1*tup[1]):\n",
    "    print(\"\\nScore: {}\\t \\nTopic: {}\".format(score, lda_model_tfidf.print_topic(index, 10)))"
   ]
  },
  {
   "cell_type": "code",
   "execution_count": null,
   "metadata": {},
   "outputs": [],
   "source": []
  }
 ],
 "metadata": {
  "kernelspec": {
   "display_name": "Python 3",
   "language": "python",
   "name": "python3"
  },
  "language_info": {
   "codemirror_mode": {
    "name": "ipython",
    "version": 3
   },
   "file_extension": ".py",
   "mimetype": "text/x-python",
   "name": "python",
   "nbconvert_exporter": "python",
   "pygments_lexer": "ipython3",
   "version": "3.8.5"
  }
 },
 "nbformat": 4,
 "nbformat_minor": 4
}
