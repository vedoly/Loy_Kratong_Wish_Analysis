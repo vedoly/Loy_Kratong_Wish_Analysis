{
 "cells": [
  {
   "cell_type": "code",
   "execution_count": 1,
   "metadata": {},
   "outputs": [],
   "source": [
    "import pandas as pd\n",
    "import numpy as np"
   ]
  },
  {
   "cell_type": "code",
   "execution_count": null,
   "metadata": {},
   "outputs": [],
   "source": [
    "import pandas as pd\n",
    "df = pd.read_csv(\"loyKratong.csv\")"
   ]
  },
  {
   "cell_type": "code",
   "execution_count": null,
   "metadata": {},
   "outputs": [],
   "source": [
    "df = df.dropna()"
   ]
  },
  {
   "cell_type": "code",
   "execution_count": null,
   "metadata": {},
   "outputs": [],
   "source": [
    "sigma = 0\n",
    "for c in default_text:\n",
    "    sigma += len(df[df['content'].str.contains(c,na=False)])\n",
    "    print(c,len(df[df['content'].str.contains(c,na=False)]))\n",
    "\n",
    "    df = df[~df['content'].str.contains(c,na=False)]"
   ]
  },
  {
   "cell_type": "code",
   "execution_count": null,
   "metadata": {},
   "outputs": [],
   "source": [
    "from pythainlp.tokenize import word_tokenize"
   ]
  },
  {
   "cell_type": "code",
   "execution_count": null,
   "metadata": {},
   "outputs": [],
   "source": [
    "df2 = df.drop(columns=['img']).copy()"
   ]
  },
  {
   "cell_type": "code",
   "execution_count": null,
   "metadata": {},
   "outputs": [],
   "source": [
    "count = 0\n",
    "def removeStopwords(L):\n",
    "    global count\n",
    "    count+=1\n",
    "    out = []\n",
    "    for c in L:\n",
    "        if c not in stopwords():\n",
    "            out.append(c.strip())\n",
    "    if(count%1000==0):\n",
    "        print(count)\n",
    "        \n",
    "    return \" \".join(out)\n",
    "    "
   ]
  },
  {
   "cell_type": "code",
   "execution_count": null,
   "metadata": {},
   "outputs": [],
   "source": [
    "df2['clean_content'] = df2['content'].apply(lambda x: removeStopwords(word_tokenize(x, engine=\"deepcut\")) )"
   ]
  },
  {
   "cell_type": "code",
   "execution_count": null,
   "metadata": {},
   "outputs": [],
   "source": [
    "df2.to_csv('cleaned.csv',index=False)"
   ]
  },
  {
   "cell_type": "code",
   "execution_count": 2,
   "metadata": {},
   "outputs": [],
   "source": [
    "df = pd.read_csv(\"cleaned.csv\").drop(columns=['name','date','content'])"
   ]
  },
  {
   "cell_type": "code",
   "execution_count": 3,
   "metadata": {},
   "outputs": [],
   "source": [
    "df = df.dropna()"
   ]
  },
  {
   "cell_type": "code",
   "execution_count": 39,
   "metadata": {},
   "outputs": [],
   "source": [
    "non_alpha = set(list(\"!@#$%^&*()_+<>?,./-ๆ๑๒๓๔๕๖๗๘๙\"))"
   ]
  },
  {
   "cell_type": "code",
   "execution_count": 40,
   "metadata": {},
   "outputs": [
    {
     "data": {
      "text/plain": [
       "nan"
      ]
     },
     "execution_count": 40,
     "metadata": {},
     "output_type": "execute_result"
    }
   ],
   "source": [
    "np.nan"
   ]
  },
  {
   "cell_type": "code",
   "execution_count": 41,
   "metadata": {},
   "outputs": [],
   "source": [
    "def listContent(s):\n",
    "    out = []\n",
    "    for c in s.split():\n",
    "        if not (c in non_alpha or c in set(list(\"0123456789\")) ):\n",
    "            out.append(c)\n",
    "    if len(out)==0:\n",
    "        return np.nan\n",
    "    return out"
   ]
  },
  {
   "cell_type": "code",
   "execution_count": 42,
   "metadata": {},
   "outputs": [],
   "source": [
    "df['content'] = df['clean_content'].apply(lambda x: listContent(x))"
   ]
  },
  {
   "cell_type": "code",
   "execution_count": 43,
   "metadata": {},
   "outputs": [],
   "source": [
    "df = df.dropna()"
   ]
  },
  {
   "cell_type": "code",
   "execution_count": 45,
   "metadata": {},
   "outputs": [],
   "source": [
    "df.to_csv(\"preprocessed_data.csv\",index=False)"
   ]
  },
  {
   "cell_type": "code",
   "execution_count": 44,
   "metadata": {
    "collapsed": true
   },
   "outputs": [
    {
     "data": {
      "text/html": [
       "<div>\n",
       "<style scoped>\n",
       "    .dataframe tbody tr th:only-of-type {\n",
       "        vertical-align: middle;\n",
       "    }\n",
       "\n",
       "    .dataframe tbody tr th {\n",
       "        vertical-align: top;\n",
       "    }\n",
       "\n",
       "    .dataframe thead th {\n",
       "        text-align: right;\n",
       "    }\n",
       "</style>\n",
       "<table border=\"1\" class=\"dataframe\">\n",
       "  <thead>\n",
       "    <tr style=\"text-align: right;\">\n",
       "      <th></th>\n",
       "      <th>id</th>\n",
       "      <th>clean_content</th>\n",
       "      <th>content</th>\n",
       "    </tr>\n",
       "  </thead>\n",
       "  <tbody>\n",
       "    <tr>\n",
       "      <th>51</th>\n",
       "      <td>9068649</td>\n",
       "      <td>ผัว ไว  คน ชอบ  ผัว</td>\n",
       "      <td>[ผัว, ไว, คน, ชอบ, ผัว]</td>\n",
       "    </tr>\n",
       "    <tr>\n",
       "      <th>110</th>\n",
       "      <td>9067537</td>\n",
       "      <td>ผัว ชื่อ เบียร์ แกล้ง ๆ คน ชื่อ เบียร์ ชอบ เรา...</td>\n",
       "      <td>[ผัว, ชื่อ, เบียร์, แกล้ง, คน, ชื่อ, เบียร์, ช...</td>\n",
       "    </tr>\n",
       "    <tr>\n",
       "      <th>234</th>\n",
       "      <td>9065689</td>\n",
       "      <td>ผัว คืน</td>\n",
       "      <td>[ผัว, คืน]</td>\n",
       "    </tr>\n",
       "    <tr>\n",
       "      <th>299</th>\n",
       "      <td>9064345</td>\n",
       "      <td>ไบร์ท ผัว</td>\n",
       "      <td>[ไบร์ท, ผัว]</td>\n",
       "    </tr>\n",
       "    <tr>\n",
       "      <th>569</th>\n",
       "      <td>9059497</td>\n",
       "      <td>* * * ขน ผัว * * *</td>\n",
       "      <td>[ขน, ผัว]</td>\n",
       "    </tr>\n",
       "    <tr>\n",
       "      <th>...</th>\n",
       "      <td>...</td>\n",
       "      <td>...</td>\n",
       "      <td>...</td>\n",
       "    </tr>\n",
       "    <tr>\n",
       "      <th>446161</th>\n",
       "      <td>6425</td>\n",
       "      <td>หนู ผัว รวย</td>\n",
       "      <td>[หนู, ผัว, รวย]</td>\n",
       "    </tr>\n",
       "    <tr>\n",
       "      <th>446177</th>\n",
       "      <td>5985</td>\n",
       "      <td>ลอย กระทง ปี เจอ ดี เจอ แฟน ดี ผัว</td>\n",
       "      <td>[ลอย, กระทง, ปี, เจอ, ดี, เจอ, แฟน, ดี, ผัว]</td>\n",
       "    </tr>\n",
       "    <tr>\n",
       "      <th>446369</th>\n",
       "      <td>945</td>\n",
       "      <td>ผัว ชื่อ โอม 3 / 9 อยส.  ไหร่ * * * เมีย รัก โอม</td>\n",
       "      <td>[ผัว, ชื่อ, โอม, อยส., ไหร่, เมีย, รัก, โอม]</td>\n",
       "    </tr>\n",
       "    <tr>\n",
       "      <th>446371</th>\n",
       "      <td>921</td>\n",
       "      <td>ผัว ชื่อ โอม 3 / 9 อยส.</td>\n",
       "      <td>[ผัว, ชื่อ, โอม, อยส.]</td>\n",
       "    </tr>\n",
       "    <tr>\n",
       "      <th>446382</th>\n",
       "      <td>665</td>\n",
       "      <td>ผัว</td>\n",
       "      <td>[ผัว]</td>\n",
       "    </tr>\n",
       "  </tbody>\n",
       "</table>\n",
       "<p>4614 rows × 3 columns</p>\n",
       "</div>"
      ],
      "text/plain": [
       "             id                                      clean_content  \\\n",
       "51      9068649                               ผัว ไว  คน ชอบ  ผัว    \n",
       "110     9067537  ผัว ชื่อ เบียร์ แกล้ง ๆ คน ชื่อ เบียร์ ชอบ เรา...   \n",
       "234     9065689                                            ผัว คืน   \n",
       "299     9064345                                          ไบร์ท ผัว   \n",
       "569     9059497                                 * * * ขน ผัว * * *   \n",
       "...         ...                                                ...   \n",
       "446161     6425                                        หนู ผัว รวย   \n",
       "446177     5985                 ลอย กระทง ปี เจอ ดี เจอ แฟน ดี ผัว   \n",
       "446369      945   ผัว ชื่อ โอม 3 / 9 อยส.  ไหร่ * * * เมีย รัก โอม   \n",
       "446371      921                            ผัว ชื่อ โอม 3 / 9 อยส.   \n",
       "446382      665                                                ผัว   \n",
       "\n",
       "                                                  content  \n",
       "51                                [ผัว, ไว, คน, ชอบ, ผัว]  \n",
       "110     [ผัว, ชื่อ, เบียร์, แกล้ง, คน, ชื่อ, เบียร์, ช...  \n",
       "234                                            [ผัว, คืน]  \n",
       "299                                          [ไบร์ท, ผัว]  \n",
       "569                                             [ขน, ผัว]  \n",
       "...                                                   ...  \n",
       "446161                                    [หนู, ผัว, รวย]  \n",
       "446177       [ลอย, กระทง, ปี, เจอ, ดี, เจอ, แฟน, ดี, ผัว]  \n",
       "446369       [ผัว, ชื่อ, โอม, อยส., ไหร่, เมีย, รัก, โอม]  \n",
       "446371                             [ผัว, ชื่อ, โอม, อยส.]  \n",
       "446382                                              [ผัว]  \n",
       "\n",
       "[4614 rows x 3 columns]"
      ]
     },
     "execution_count": 44,
     "metadata": {},
     "output_type": "execute_result"
    }
   ],
   "source": [
    "df[df.clean_content.str.contains('ผัว')]"
   ]
  },
  {
   "cell_type": "code",
   "execution_count": 14,
   "metadata": {},
   "outputs": [
    {
     "data": {
      "text/plain": [
       "False"
      ]
     },
     "execution_count": 14,
     "metadata": {},
     "output_type": "execute_result"
    }
   ],
   "source": [
    "\"ผัว\".isalpha()"
   ]
  },
  {
   "cell_type": "code",
   "execution_count": null,
   "metadata": {},
   "outputs": [],
   "source": []
  }
 ],
 "metadata": {
  "kernelspec": {
   "display_name": "Python 3",
   "language": "python",
   "name": "python3"
  },
  "language_info": {
   "codemirror_mode": {
    "name": "ipython",
    "version": 3
   },
   "file_extension": ".py",
   "mimetype": "text/x-python",
   "name": "python",
   "nbconvert_exporter": "python",
   "pygments_lexer": "ipython3",
   "version": "3.8.5"
  }
 },
 "nbformat": 4,
 "nbformat_minor": 4
}
